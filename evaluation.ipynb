{
 "cells": [
  {
   "cell_type": "code",
   "execution_count": 29,
   "metadata": {
    "ExecuteTime": {
     "end_time": "2020-07-01T19:15:50.641719Z",
     "start_time": "2020-07-01T19:15:50.636451Z"
    }
   },
   "outputs": [],
   "source": [
    "import torch\n",
    "import pandas as pd\n",
    "import numpy as np"
   ]
  },
  {
   "cell_type": "code",
   "execution_count": 30,
   "metadata": {
    "ExecuteTime": {
     "end_time": "2020-07-01T19:15:50.866199Z",
     "start_time": "2020-07-01T19:15:50.834715Z"
    }
   },
   "outputs": [],
   "source": [
    "submission = pd.read_csv('./rsc/submission.csv', index_col=0)"
   ]
  },
  {
   "cell_type": "code",
   "execution_count": 31,
   "metadata": {
    "ExecuteTime": {
     "end_time": "2020-07-01T19:15:51.066892Z",
     "start_time": "2020-07-01T19:15:51.064376Z"
    }
   },
   "outputs": [],
   "source": [
    "from models.concat_sample_cnn_network import SampleCNN"
   ]
  },
  {
   "cell_type": "code",
   "execution_count": 35,
   "metadata": {
    "ExecuteTime": {
     "end_time": "2020-07-01T19:17:25.642452Z",
     "start_time": "2020-07-01T19:17:24.186138Z"
    }
   },
   "outputs": [
    {
     "ename": "RuntimeError",
     "evalue": "Error(s) in loading state_dict for SampleCNN:\n\tMissing key(s) in state_dict: \"conv_seq_1.0.sequential.1.weight\", \"conv_seq_1.0.sequential.1.bias\", \"conv_seq_1.0.sequential.1.running_mean\", \"conv_seq_1.0.sequential.1.running_var\", \"conv_seq_1.1.sequential.1.weight\", \"conv_seq_1.1.sequential.1.bias\", \"conv_seq_1.1.sequential.1.running_mean\", \"conv_seq_1.1.sequential.1.running_var\", \"conv_seq_1.2.sequential.1.weight\", \"conv_seq_1.2.sequential.1.bias\", \"conv_seq_1.2.sequential.1.running_mean\", \"conv_seq_1.2.sequential.1.running_var\", \"conv_seq_1.3.sequential.1.weight\", \"conv_seq_1.3.sequential.1.bias\", \"conv_seq_1.3.sequential.1.running_mean\", \"conv_seq_1.3.sequential.1.running_var\", \"conv_seq_2.0.sequential.1.weight\", \"conv_seq_2.0.sequential.1.bias\", \"conv_seq_2.0.sequential.1.running_mean\", \"conv_seq_2.0.sequential.1.running_var\", \"conv_seq_2.1.sequential.1.weight\", \"conv_seq_2.1.sequential.1.bias\", \"conv_seq_2.1.sequential.1.running_mean\", \"conv_seq_2.1.sequential.1.running_var\", \"conv_seq_2.2.sequential.1.weight\", \"conv_seq_2.2.sequential.1.bias\", \"conv_seq_2.2.sequential.1.running_mean\", \"conv_seq_2.2.sequential.1.running_var\", \"conv_seq_2.3.sequential.1.weight\", \"conv_seq_2.3.sequential.1.bias\", \"conv_seq_2.3.sequential.1.running_mean\", \"conv_seq_2.3.sequential.1.running_var\", \"conv_seq_3.0.sequential.1.weight\", \"conv_seq_3.0.sequential.1.bias\", \"conv_seq_3.0.sequential.1.running_mean\", \"conv_seq_3.0.sequential.1.running_var\", \"conv_seq_3.1.sequential.1.weight\", \"conv_seq_3.1.sequential.1.bias\", \"conv_seq_3.1.sequential.1.running_mean\", \"conv_seq_3.1.sequential.1.running_var\", \"conv_seq_3.2.sequential.1.weight\", \"conv_seq_3.2.sequential.1.bias\", \"conv_seq_3.2.sequential.1.running_mean\", \"conv_seq_3.2.sequential.1.running_var\", \"conv_seq_3.3.sequential.1.weight\", \"conv_seq_3.3.sequential.1.bias\", \"conv_seq_3.3.sequential.1.running_mean\", \"conv_seq_3.3.sequential.1.running_var\". \n\tUnexpected key(s) in state_dict: \"conv_seq_1.4.conv.weight\", \"conv_seq_1.4.conv.bias\", \"conv_seq_1.4.bn.weight\", \"conv_seq_1.4.bn.bias\", \"conv_seq_1.4.bn.running_mean\", \"conv_seq_1.4.bn.running_var\", \"conv_seq_1.4.bn.num_batches_tracked\", \"conv_seq_1.4.sequential.0.weight\", \"conv_seq_1.4.sequential.0.bias\", \"conv_seq_2.4.conv.weight\", \"conv_seq_2.4.conv.bias\", \"conv_seq_2.4.bn.weight\", \"conv_seq_2.4.bn.bias\", \"conv_seq_2.4.bn.running_mean\", \"conv_seq_2.4.bn.running_var\", \"conv_seq_2.4.bn.num_batches_tracked\", \"conv_seq_2.4.sequential.0.weight\", \"conv_seq_2.4.sequential.0.bias\", \"conv_seq_3.4.conv.weight\", \"conv_seq_3.4.conv.bias\", \"conv_seq_3.4.bn.weight\", \"conv_seq_3.4.bn.bias\", \"conv_seq_3.4.bn.running_mean\", \"conv_seq_3.4.bn.running_var\", \"conv_seq_3.4.bn.num_batches_tracked\", \"conv_seq_3.4.sequential.0.weight\", \"conv_seq_3.4.sequential.0.bias\". ",
     "output_type": "error",
     "traceback": [
      "\u001b[0;31m---------------------------------------------------------------------------\u001b[0m",
      "\u001b[0;31mRuntimeError\u001b[0m                              Traceback (most recent call last)",
      "\u001b[0;32m<ipython-input-35-f9a51bae7219>\u001b[0m in \u001b[0;36m<module>\u001b[0;34m\u001b[0m\n\u001b[1;32m      1\u001b[0m \u001b[0mmodel\u001b[0m \u001b[0;34m=\u001b[0m \u001b[0mSampleCNN\u001b[0m\u001b[0;34m(\u001b[0m\u001b[0;34m)\u001b[0m\u001b[0;34m\u001b[0m\u001b[0;34m\u001b[0m\u001b[0m\n\u001b[0;32m----> 2\u001b[0;31m \u001b[0mmodel\u001b[0m\u001b[0;34m.\u001b[0m\u001b[0mload_state_dict\u001b[0m\u001b[0;34m(\u001b[0m\u001b[0mtorch\u001b[0m\u001b[0;34m.\u001b[0m\u001b[0mload\u001b[0m\u001b[0;34m(\u001b[0m\u001b[0;34m'./rsc/output_samplecnn_3/pt_scnn_2.bin'\u001b[0m\u001b[0;34m)\u001b[0m\u001b[0;34m)\u001b[0m\u001b[0;34m\u001b[0m\u001b[0;34m\u001b[0m\u001b[0m\n\u001b[0m",
      "\u001b[0;32m/opt/conda/lib/python3.7/site-packages/torch/nn/modules/module.py\u001b[0m in \u001b[0;36mload_state_dict\u001b[0;34m(self, state_dict, strict)\u001b[0m\n\u001b[1;32m    843\u001b[0m         \u001b[0;32mif\u001b[0m \u001b[0mlen\u001b[0m\u001b[0;34m(\u001b[0m\u001b[0merror_msgs\u001b[0m\u001b[0;34m)\u001b[0m \u001b[0;34m>\u001b[0m \u001b[0;36m0\u001b[0m\u001b[0;34m:\u001b[0m\u001b[0;34m\u001b[0m\u001b[0;34m\u001b[0m\u001b[0m\n\u001b[1;32m    844\u001b[0m             raise RuntimeError('Error(s) in loading state_dict for {}:\\n\\t{}'.format(\n\u001b[0;32m--> 845\u001b[0;31m                                self.__class__.__name__, \"\\n\\t\".join(error_msgs)))\n\u001b[0m\u001b[1;32m    846\u001b[0m         \u001b[0;32mreturn\u001b[0m \u001b[0m_IncompatibleKeys\u001b[0m\u001b[0;34m(\u001b[0m\u001b[0mmissing_keys\u001b[0m\u001b[0;34m,\u001b[0m \u001b[0munexpected_keys\u001b[0m\u001b[0;34m)\u001b[0m\u001b[0;34m\u001b[0m\u001b[0;34m\u001b[0m\u001b[0m\n\u001b[1;32m    847\u001b[0m \u001b[0;34m\u001b[0m\u001b[0m\n",
      "\u001b[0;31mRuntimeError\u001b[0m: Error(s) in loading state_dict for SampleCNN:\n\tMissing key(s) in state_dict: \"conv_seq_1.0.sequential.1.weight\", \"conv_seq_1.0.sequential.1.bias\", \"conv_seq_1.0.sequential.1.running_mean\", \"conv_seq_1.0.sequential.1.running_var\", \"conv_seq_1.1.sequential.1.weight\", \"conv_seq_1.1.sequential.1.bias\", \"conv_seq_1.1.sequential.1.running_mean\", \"conv_seq_1.1.sequential.1.running_var\", \"conv_seq_1.2.sequential.1.weight\", \"conv_seq_1.2.sequential.1.bias\", \"conv_seq_1.2.sequential.1.running_mean\", \"conv_seq_1.2.sequential.1.running_var\", \"conv_seq_1.3.sequential.1.weight\", \"conv_seq_1.3.sequential.1.bias\", \"conv_seq_1.3.sequential.1.running_mean\", \"conv_seq_1.3.sequential.1.running_var\", \"conv_seq_2.0.sequential.1.weight\", \"conv_seq_2.0.sequential.1.bias\", \"conv_seq_2.0.sequential.1.running_mean\", \"conv_seq_2.0.sequential.1.running_var\", \"conv_seq_2.1.sequential.1.weight\", \"conv_seq_2.1.sequential.1.bias\", \"conv_seq_2.1.sequential.1.running_mean\", \"conv_seq_2.1.sequential.1.running_var\", \"conv_seq_2.2.sequential.1.weight\", \"conv_seq_2.2.sequential.1.bias\", \"conv_seq_2.2.sequential.1.running_mean\", \"conv_seq_2.2.sequential.1.running_var\", \"conv_seq_2.3.sequential.1.weight\", \"conv_seq_2.3.sequential.1.bias\", \"conv_seq_2.3.sequential.1.running_mean\", \"conv_seq_2.3.sequential.1.running_var\", \"conv_seq_3.0.sequential.1.weight\", \"conv_seq_3.0.sequential.1.bias\", \"conv_seq_3.0.sequential.1.running_mean\", \"conv_seq_3.0.sequential.1.running_var\", \"conv_seq_3.1.sequential.1.weight\", \"conv_seq_3.1.sequential.1.bias\", \"conv_seq_3.1.sequential.1.running_mean\", \"conv_seq_3.1.sequential.1.running_var\", \"conv_seq_3.2.sequential.1.weight\", \"conv_seq_3.2.sequential.1.bias\", \"conv_seq_3.2.sequential.1.running_mean\", \"conv_seq_3.2.sequential.1.running_var\", \"conv_seq_3.3.sequential.1.weight\", \"conv_seq_3.3.sequential.1.bias\", \"conv_seq_3.3.sequential.1.running_mean\", \"conv_seq_3.3.sequential.1.running_var\". \n\tUnexpected key(s) in state_dict: \"conv_seq_1.4.conv.weight\", \"conv_seq_1.4.conv.bias\", \"conv_seq_1.4.bn.weight\", \"conv_seq_1.4.bn.bias\", \"conv_seq_1.4.bn.running_mean\", \"conv_seq_1.4.bn.running_var\", \"conv_seq_1.4.bn.num_batches_tracked\", \"conv_seq_1.4.sequential.0.weight\", \"conv_seq_1.4.sequential.0.bias\", \"conv_seq_2.4.conv.weight\", \"conv_seq_2.4.conv.bias\", \"conv_seq_2.4.bn.weight\", \"conv_seq_2.4.bn.bias\", \"conv_seq_2.4.bn.running_mean\", \"conv_seq_2.4.bn.running_var\", \"conv_seq_2.4.bn.num_batches_tracked\", \"conv_seq_2.4.sequential.0.weight\", \"conv_seq_2.4.sequential.0.bias\", \"conv_seq_3.4.conv.weight\", \"conv_seq_3.4.conv.bias\", \"conv_seq_3.4.bn.weight\", \"conv_seq_3.4.bn.bias\", \"conv_seq_3.4.bn.running_mean\", \"conv_seq_3.4.bn.running_var\", \"conv_seq_3.4.bn.num_batches_tracked\", \"conv_seq_3.4.sequential.0.weight\", \"conv_seq_3.4.sequential.0.bias\". "
     ]
    }
   ],
   "source": [
    "model = SampleCNN()\n",
    "model.load_state_dict(torch.load('./rsc/output_samplecnn_3/pt_scnn_2.bin'))"
   ]
  },
  {
   "cell_type": "code",
   "execution_count": 24,
   "metadata": {
    "ExecuteTime": {
     "end_time": "2020-07-01T18:55:54.799374Z",
     "start_time": "2020-07-01T18:55:54.793027Z"
    }
   },
   "outputs": [
    {
     "name": "stdout",
     "output_type": "stream",
     "text": [
      "total instances is 10000\n"
     ]
    }
   ],
   "source": [
    "from data_loader import SpeechTestDataset\n",
    "from torch.utils.data import DataLoader\n",
    "\n",
    "test_dataset = SpeechTestDataset('./rsc/test.hdf5')\n",
    "test_dataloader = DataLoader(test_dataset, batch_size=1000)"
   ]
  },
  {
   "cell_type": "code",
   "execution_count": 25,
   "metadata": {
    "ExecuteTime": {
     "end_time": "2020-07-01T18:56:52.968196Z",
     "start_time": "2020-07-01T18:55:55.952603Z"
    }
   },
   "outputs": [
    {
     "name": "stderr",
     "output_type": "stream",
     "text": [
      "100%|██████████| 10/10 [00:57<00:00,  5.70s/it]\n"
     ]
    }
   ],
   "source": [
    "from tqdm import tqdm\n",
    "\n",
    "result = []\n",
    "\n",
    "for i in tqdm(test_dataloader):\n",
    "    result.append((model(i['feature'].float())))"
   ]
  },
  {
   "cell_type": "code",
   "execution_count": 26,
   "metadata": {
    "ExecuteTime": {
     "end_time": "2020-07-01T18:56:52.981654Z",
     "start_time": "2020-07-01T18:56:52.970469Z"
    }
   },
   "outputs": [
    {
     "name": "stdout",
     "output_type": "stream",
     "text": [
      "torch.Size([10000, 30])\n"
     ]
    }
   ],
   "source": [
    "answers = torch.cat(result, dim=0)\n",
    "print(answers.shape)"
   ]
  },
  {
   "cell_type": "code",
   "execution_count": 27,
   "metadata": {
    "ExecuteTime": {
     "end_time": "2020-07-01T18:56:53.025155Z",
     "start_time": "2020-07-01T18:56:52.986301Z"
    }
   },
   "outputs": [],
   "source": [
    "submission.loc[:, :] = answers.detach().numpy()"
   ]
  },
  {
   "cell_type": "code",
   "execution_count": 28,
   "metadata": {
    "ExecuteTime": {
     "end_time": "2020-07-01T18:56:53.918933Z",
     "start_time": "2020-07-01T18:56:53.027882Z"
    }
   },
   "outputs": [],
   "source": [
    "submission.to_csv('./rsc/submission_samplecnn_2_pt_scnn_3.csv')"
   ]
  },
  {
   "cell_type": "code",
   "execution_count": null,
   "metadata": {},
   "outputs": [],
   "source": []
  }
 ],
 "metadata": {
  "kernelspec": {
   "display_name": "Python 3",
   "language": "python",
   "name": "python3"
  },
  "language_info": {
   "codemirror_mode": {
    "name": "ipython",
    "version": 3
   },
   "file_extension": ".py",
   "mimetype": "text/x-python",
   "name": "python",
   "nbconvert_exporter": "python",
   "pygments_lexer": "ipython3",
   "version": "3.7.6"
  },
  "toc": {
   "base_numbering": 1,
   "nav_menu": {},
   "number_sections": false,
   "sideBar": true,
   "skip_h1_title": false,
   "title_cell": "Table of Contents",
   "title_sidebar": "Contents",
   "toc_cell": false,
   "toc_position": {},
   "toc_section_display": true,
   "toc_window_display": false
  }
 },
 "nbformat": 4,
 "nbformat_minor": 4
}
